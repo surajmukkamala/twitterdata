{
 "cells": [
  {
   "cell_type": "code",
   "execution_count": 552,
   "metadata": {},
   "outputs": [],
   "source": [
    "import pandas as pd\n",
    "import re\n",
    "import gensim\n",
    "import nlm\n",
    "import torch\n",
    "import torch.nn as nn\n",
    "import torch.optim as optim\n",
    "import numpy as np"
   ]
  },
  {
   "cell_type": "code",
   "execution_count": 553,
   "metadata": {},
   "outputs": [],
   "source": [
    "columns = [\"sentiment\", \"id\", \"date\", \"query\", \"user_id\", \"text\"]\n",
    "df = pd.read_csv(\"data.csv\", encoding=\"latin\", names=columns)\n",
    "subdf = df.iloc[0:1000]\n",
    "text = []\n",
    "sen = []  # sentences"
   ]
  },
  {
   "cell_type": "code",
   "execution_count": 554,
   "metadata": {},
   "outputs": [],
   "source": [
    "\n",
    "\n",
    "for row in subdf[\"text\"]:\n",
    "    row = row.lower()\n",
    "    row = re.sub(r'((www.\\S+)|(https?://\\S+))', r\"\", row)\n",
    "    row = re.sub(r'(@\\S+) | (#\\S+)', r'', row)\n",
    "    row = row.replace(\",\", \" #c\")  # we want to keep punctuation\n",
    "    row = row.replace(\".\", \" #p\")\n",
    "    row = row.replace(\"!\", \" #e\")\n",
    "    row = row.replace(\"?\", \" #q\")\n",
    "    sen.append(re.split(\"[\\n\\s:;]\", row))"
   ]
  },
  {
   "cell_type": "code",
   "execution_count": 555,
   "metadata": {},
   "outputs": [],
   "source": [
    "model = gensim.models.Word2Vec(\n",
    "    sentences=sen, vector_size=25, window=10, epochs=100, min_count=1, workers=4\n",
    ")"
   ]
  },
  {
   "cell_type": "code",
   "execution_count": 556,
   "metadata": {},
   "outputs": [],
   "source": [
    "model.save(\"project3.model\")\n"
   ]
  },
  {
   "cell_type": "code",
   "execution_count": 557,
   "metadata": {},
   "outputs": [
    {
     "name": "stdout",
     "output_type": "stream",
     "text": [
      "['', '#p', 'i', '#e', 'to', 'the', '#c', 'my', 'a', 'and', 'is', '#q', 'in', 'it', 'for', 'you', 'me', 'of', 'so', \"i'm\", 'that', 'but', 'have', 'was', 'on', 'not', 'this', 'at', 'just', 'with', 'no', 'out', 'get', 'be', 'all', 'too', 'sad', 'now', 'like', 'up', \"don't\", \"it's\", 'work', 'time', 'sleep', 'still', 'go', 'going', 'back', 'really', 'day', 'one', 'know', '-', 'got', 'has', 'today', 'from', 'do', \"can't\", 'are', 'how', 'am', 'miss', 'good', 'much', 'an', 'they', 'about', 'want', 'some', 'when', 'its', 'what', 'im', 'night', 'oh', 'sorry', 'your', 'tomorrow', 'see', 'why', 'home', 'feel', 'had', 'u', 'bad', 'think', 'he', 'need', 'hate', 'only', 'if', 'new', '2', 'we', 'more', 'been', 'well', \"didn't\", '&quot', 'again', 'her', 'can', 'as', 'sick', 'off', 'them', 'here', 'will', 'wish', 'love', 'him', 'though', '3', 'did', 'bed', 'last', 'getting', 'she', 'lol', 'school', \"i've\", 'people', 'lost', 'then', 'hope', 'tonight', 'down', 'over', '&amp', 'hear', 'thing', 'find', 'better', 'early', 'there', 'watching', 'done', 'week', 'gonna', 'by', 'days', 'make', 'made', 'feeling', \"won't\", 'tired', 'or', 'morning', 'cant', 'man', 'show', 'old', 'dont', 'missed', 'were', 'even', \"doesn't\", 'hours', 'season', 'haha', 'hey', 'doing', 'poor', 'hard', 'house', 'found', 'being', 'wanna', 'world', 'never', 'right', 'any', 'wait', 'who', 'could', 'life', 'very', 'ur', 'missing', 'already', 'twitter', 'ugh', 'away', 'come', 'omg', 'take', 'working', 'keep', 'help', 'waiting', 'should', 'long', 'because', \"that's\", 'his', 'cry', '4', 'fun', 'someone', 'internet', 'yeah', \"you're\", 'without', 'coming', 'those', 'little', 'might', 'most', 'sure', '1', 'phone', 'would', 'us', 'damn', 'hour', 'may', 'thought', 'dead', 'two', 'great', 'around', 'heart', 'always', 'watch', 'such', 'put', 'tweet', '&gt', 'totally', 'lot', 'said', 'hurts', 'another', 'late', \"there's\", 'before', 'way', 'yesterday', 'call', 'soon', 'ago', 'whole', 'yes', 'start', 'where', 'yet', 'homework', \"isn't\", 'year', 'crying', 'ya', 'first', 'upset', 'also', 'pain', 'girl', 'tho', '#pand', 'wants', 'mom', 'enough', 'ever', 'through', 'looking', 'cool', 'same', \"i'll\", '&lt', 'sandra', 'aww', 'game', 'cold', 'myself', 'after', 'please', '#pi', 'break', 'gone', 'tweets', 'next', 'almost', 'free', 'asleep', 'dog', 'left', 'shit', 'finish', 'job', 'baby', 'happy', 'family', 'something', 'news', 'say', 'snow', 'went', 'look', '@', 'body', 'least', 'send', 'than', 'soo', 'having', 'glad', 'gotta', 'let', 'throat', 'party', 'trying', 'broke', 'hurt', 'things', 'called', 'actually', '8', 'until', 'anything', 'ok', 'does', 'stop', 'stuff', 'fell', 'play', 'try', 'money', 'behind', 'far', 'company', 'horrible', 'gets', \"she's\", 'believe', 'happened', 'state', 'few', 'into', 'stuck', 'sore', 'weekend', 'hills', 'many', 'suck', 'updates', 'class', 'these', '10', 'half', 'use', 'car', 'chat', 'pretty', 'kinda', 'write', 'spring', 'aw', 'ready', 'leaving', 'mine', 'tell', 'end', 'three', 'sadly', 'came', 'either', 'understand', 'everyone', 'prayers', 'study', 'anymore', 'playing', 'fail', 'worried', 'mean', 'nice', 'seriously', 'stupid', 'times', 'town', 'd', 'losing', 'puppy', 'ass', 'since', 'kutner', 'head', 'ate', 'ride', 'reading', 'fuck', \"couldn't\", 'crazy', 'listening', 'needs', 'bit', 'figure', 'website', 'shows', 'sent', '#pmy', 'told', 'saw', 'forever', 'says', 'hell', 'longer', 'test', 'win', 'lmao', 'terrible', 'idea', 'rain', 'cantu', \"haven't\", 'read', 'post', 'books', 'breakfast', 'feels', 'mad', 'paper', 'hot', 'star', 'big', 'seem', 'r', 'site', 'sleeping', 'able', 'afternoon', 'uni', 'sitting', 'shower', \"wasn't\", 'ill', 'later', 'favorite', 'while', 'excited', 'kids', 'macbook', 'movie', 'their', 'laptop', 'reason', 'easter', 'b', 'loss', 'red', 'wednesday', 'band', 'assignment', 'wont', 'wake', 'video', 'confused', 'birthday', 'iphone', 'running', 'headache', 'weather', 'hates', 'bored', 'apparently', 'wanted', 'forward', 'update', '6', 'goes', 'making', 'finally', 'tried', 'sucks', 'trip', 'live', 'nope', 'n', 'wow', 'support', 'store', 'thanks', 'friends', 'weeks', 'realized', 'our', 'episode', \"aren't\", 'listen', 'awake', 'care', 'woke', 'run', 'problem', 'crap', 'seen', 'cuz', 'brother', 'killed', 'means', 'sooo', 'best', 'ohh', 'sounds', 'pray', 'finished', 'serious', '5', 'michigan', 'italy', 'ex', 'earthquake', \"hasn't\", 'list', 'tough', 'sleepy', 'california', 'watched', 'craving', 'lose', 'itunes', 'follow', 'room', 'rolls', 'turn', 'ruined', 'xxx', 'everything', 'april', 'chocolate', 'jealous', 'maybe', 'wtf', 'lights', 'face', 'matter', 'trek', 'okay', 'youtube', '(for', 'makes', '+', \"'feet'\", 'bay', 'sat', 'due', 'babe', 'hang', 'rip', 'yea', \"i'd\", 'nothing', '#pits', 'john', 'eat', 'tweetdeck', 'started', 'myspace', 'yucky', 'officially', 'open', 'info', 'freezing', 'meetings', 'office', 'female', 'lonely', 'anyone', 'place', 'gah', 'download', 'y', 'both', 'opening', 'canada', 'mind', 'hahaha', 'true', 'thinking', 'computer', 'exactly', 'mac', 'alone', 'hotel', 'mum', 'close', 'cried', 'course', 'coke', ')', 'knew', 'team', 'dang', 'awesome', 'died', 'minutes', 'leavin', 'hopefully', '9th', 'bedtime', 'other', 'busy', 'check', 'turned', 'years', 'till', '*(', 'luck', 'stay', 'struggling', 'screwed', 'english', 'which', 'guys', 'daddy', 'considering', 'dying', 'guy', 'grr', 'difficult', 'rock', 'french', 'boring', 'fav', 'games', 'others', 'doesnt', 'tummy', 'exam', 'film', 'online', 'photos', 'boy', 'em', 'depressing', 'yawn', 'lucky', 'wear', 'hug', 'spend', 'bill', '5am', 'death', 'heard', 'meeting', 'girls', 'taking', 'depressed', 'city', 'premiere', 'wonder', 'less', 'ive', 'hmmm', 'traffic', 'talk', 'eyes', 'ugly', 'account', 'spent', 'paid', 'boo', 'taxes', 'friend', 'business', 'story', 'however', 'book', '#p5', 'falling', 'heading', 'garden', 'angels', '24', 'fam', 'auntie', 'tracy', 'whack', 'continue', 'flowers', \"we've\", 'tonite', 'used', 'yay', '~', 'checked', '#qi', 'atekinzz', '#pnow', 'blackberry', 'iz', 'supposed', 'library', 'wana', 'couldnt', 'wall', 'stare', 'cat', 'heat', 'fit', 'keeps', 'mocha', 'god', 'congrats', 'stand', 'cause', 'forgot', \"they've\", 'shooting', 'quiet', 'sister', 'belly', 'fired', 'shop', \"he's\", 'giant', 'snoo-snoo', 'kind', \"we're\", 'coffee', 'girlfriend', 'dammit', 'crash', \"yesterday's\", 'anybody', 'gym', 'fall', 'buying', 'renting', 'sweating', 'looks', 'ebay', 'happening', 'deleted', 'yrs', 'xbox', 'kal', 'middle', 'felt', 'gosh', 'page', 'quarter', 'camp', '=', 'currently', 'finding', 'acting', 'weird', 'ho', 'full', 'pc', 'forget', '#pcom', 'music', 'finger', 'difference', 'telling', '#p0', 'apps', 'sweet', 'although', 'picked', 'dress', 'st', 'somewhere', 'pick', 'happens', \"a's\", 'speak', 'yia', 'comp', 'ughh', 'date', 'takes', 'starts', 'channels', 'hardest', 'top', \"'look'\", 'ladies', 'buddy', 'stress', 'written', 'took', 'county', 'tuesday', '40', 'clock', 'bottle', 'spencer', '30', 'lip', 'dvd', 'tons', 'deal', 'thursday', 'allergic', 'swear', 'gaining', 'staying', 'replies', 'via', 'click', 'broken', 'massive', 'soooo', 'broadband', 'closed', 'downloading', 'album', 'each', '311', 'remove', 'barrel', 'hubby', 'bank', 'holiday', 'horror', 'agree', 'miserable', 'idk', 'link', 'tweeted', 'alot', 'grandma', 'videos', 'easily', 'annoyed', 'boss', 'text', 'v', 'thinks', 'rum', 'plz', 'iï¿½m', 'rude', 'scratch', 'taken', 'order', 'severely', 'movies', 'bentley', 'nonsense', 'gamertag', 'downloads', 'words', 'productive', 'couple', 'between', 'piece', 'aaaaand', 'hair', 'project', 'stern', 'fine', 'unfortunately', 'everybody', 'thoughts', 'result', 'facebook', 'stolen', 'arrived', 'poo', 'art', 'plurk', 'ah', 'sold', '#p4', 'management', 'php', 'worked', 'awww', 'hopes', 'schedule', 'worst', 'managed', 'ep', '/', 'pack', 'map', 'halo', 'bc', 'fire', 'itchy', 'bouts', 'yup', 'covers', 'wishing', 'bring', 'stories', 'afraid', 'rest', 'code', 'cut', 'geez', 'option', 'together', 'changed', 'shoe', 'eating', 'checking', 'tourney', 'jumped', 'round', 'every', 'bathroom', 'pushing', '22', 'celebrate', 'wondering', 'leslie', 'funny', \"'\", 'hated', 'gave', 'status', 'email', 'definitely', 'unfornately', 'upload', 'ouch', 'sell', 'dunno', 'fish', 'cherry', 'sites', 'child', 'walk', 'hello', 'bright', 'anyway', '2009', '2008', 'copy', 'buttload', 'once', 'hungry', 'crossed', 'fingers', 'shout', 'asked', \"'s\", 'card', 'contacts', 'doc', 'forgotten', 'sucked', 'change', 'stock', \"you've\", 'net', 'men', 'emotional', 'reply', 'dark', 'moneys', 'dad', 'meet', 'coach', 'pepperoni', 'ma', 'modern', 'heartbroken', 'monday', 'brent', 'l', '*sigh*', 'praise', 'weight', '#pbut', 'lead', 'guitarist', 'london', 'pout&gt', 'works', 'complete', 'move', 'dentist', 'pulled', 'leather', 'seems', 'added', 'else', 'stressed', 'dr', 'must', 'clip', 'trash', 'empty', 'wah', 'ipod', 'buy', 'fan', 'gift', 'cell', 'mention', 'ran', 'wrote', 'skittles', 'station', 'black', 'pissed', 'kutnerrrr', 'v0', 'terms', 'hoping', 'lots', 'foo', '12', 'happen', 'probably', 'editing', 'oven', 'pay', 'boredd', 'guess', '10th', 'nz', 'notice', 'message', 'thank', 'folks', 'repeat', 'min', 'tax', 'dream', 'cream', 'eye', 'agency', 'socks', 'shoes', 'comes', 'chance', 'nite', 'shame', \"g'knight\", 'march', 'useless', '#pwell', 'train', 'problems', 'four', 'enjoy', 'hmm', 'worse', 'cash', 'paris', 'milk', 'bak', 'b-day', 'fat', 'background', 'photoshop', 'covered', 'attention', 'ones', 'wishes', 'spartans', 't', 'mug', 'single', 'saddening', 'penn', 'location', 'smells', 'pics', 'comments', 'knows', 'loved', '(and', 'bah', '#pw', 'anwb', 'rather', 'month', 'csi', 'fml', 'remember', 'classes', 'exist', 'saying', 'northern', 'pages', 'herpes', 'episodes', 'cross', 'feet', 'statistics', '#pdid', 'cancer', 'ground', 'gotten', 'fab', 'goodnight', 'thru', 'moment', 'uk', 'set', 'nokia', 'lame', 'easy', 'understood', 'calorie', 'living', 'lauren', 'netbeans', 'assets', 'wonders', 'ic', 'yoyoyo', 'whale', 'reconnected', 'unhappy', 'wry', 'split', 'folders', 'leg', 'fast', 'zip', 'netball', 'fucked', '4chan', 'nile', 'tennis', 'nursing', 'directors', 'ahh', 'bum', 'trade', 'mikey', 'netbal', 'house&quot', 'arms', '+15', 'alicia', 'file', 'capacity', 'hiding', '8th', 'luggage', 'dallas', 'luvvvvv', 'ps3', 'golden', 'retriever', 'sighhhh', 'fares', 'fucking', 'scene', \"you'd\", 'astros', 'nausea', 'ooh', 'doucheclown', 'teams', \"snyder's\", 'newsletter', \"hollis'\", 'commission', 'gr8t', 'increase', '13th', 'strikes', 'dierks', 'seccond', \"comin'\", 'andy', 'columbus', 'heroes', 'remains', 'sidekick', 'police', 'bye', 'xm', 'calif', 'july', 'complaints', '#ptonight', 'bff', 'name', 'voice', 'laying', 'moscow', \"he'd\", 'wutcha', 'wondered', 'overrated', \"me'd)\", 'sophmore', 'valley', 'mixed', 'mid', '3rd', 'fruit', 'microwave', 'doctor', 'defined', 'treaty', 'nevertheless', 'monkeys', 'mea', 'picnic', 'marley', '4g', 'whyyyyyyyy', 'blagh', 'sprint', 'twin', 'baked', 'hoped', 'citrus', 'donkey', 'sensitive', 'ated', 'waking', 'cake', 'anoop', 'reminds', 'shitloads', '#pworking', 'appraisal', 'overheating', 'form', 'occupied', 'past', 'dear', 'pos', 'deserved', 'wat', 'soundtrack', 'ring', 'no-where', 'awol', 'ooooooh', '*sealclap*', 'kinds', 'rent', 'filling', 'drinking', '#pno', 'doa', 'messages', 'asap', 'downstairs', 'courts', 'misses', 'charger', 'training', 'mommy', 'of)', 'naked', 'emily', 'drinks', '(jk', 'table', 'sort', 'recalls', 'unbelievable', 'booked', 'reach', 'allows', 'threatening', 'goodniight', '50%', 'save', '#pjust', 'needed', 'db2', 'pee', 'margarita', 'waxed', 'workouts', 'hills)', '(the', 'ball', 'unfortunetly', 'cameron', 'dived', 'sh**', 'bounds', 'my/our', 'gallbladder', 'behaving', 'jerk', '#p92', 'register&quot', 'sup', 'slept', 'mama', 'pills', 'twittas', 'bass', 'callin', '1st', 'nighty', 'babies', 'degrees', 'phantasy', 'hypnosis', 'blah', 'mich', 'smoking', 'carr', 'softball', 'david', 'random', 'basketball', 'noo', 'shoulda', 'terrified', 'accidentally', 'sour', 'reference', 'laugh*', 'bummer', '*evil', 'muahaha', \"they're\", 'thankfully', 'third', 'bet', 'food', 'stillllll', 'eyebrows', 'hillsong', 'texting', '0g', 'milky', 'bar', '200ml', 'sleeeep', 'rape', 'undergrad', 'design', 'mraow', 'dancing', 'webpage', 'studying', 'tea', 'ineptness', 'technological', 'macheist', 'seniority', 'oooooooo', '(im', 'neither', 'thats', 'counts', 'chalk', 'chalkboard', 'nearly', 'posted', 'embarrassing', 'ua', 'bear', 'applications', 'son', \"steve's\", 'vincas', '#pwana', 'wnt', \"missin'\", 'won', 'bracket', 'axis', 'zac', 'downtown', 'ooooh', 'pools', 'mahavir', 'jayanti', 'contd', \"would've\", 'gun', 'jobros', 'theres', 'often', 'hilarious', 'linked', 'lj', 'ears', 'tense', 'whinging', '#conly', 'related', 'getty', 'espresso', \"how's\", 'constants', 'discussion', 'koodo', 'mmm', 'repeated', 'wise', 'villa', 'rains', 'junk', 'etc', 'yer', 'crew', 'que', 'apologize', 'client&amp', 'plain', 're-pierced', '#cgrace', 'rylee', 'serial', 'snowing', 'rewrote', 'blast', 'strider', '-------', 'unreadable', 'muera', 'ulike', 'writer&amp', 'reviewed', 'correctly', 'punch', '#plilly', 'lover', 'culpa', 'reese', 'songs', 'experience', 'wanttss', 'alive', 'wage', 'interview', 'cardiff', 'breaks', 'trouble', \"girl's\", \"f'n\", 'wiggety-whack', 'clams', 'choose', 'chose', 'accept', \"family's\", 'francesca', '#csheï¿½s', 'imma', 'woman', 'finale', 'kenny', '#psnow', 'madame', 'president', 'agh', 'headstart', 'limited', 'annoys', 'letters', '#ctoo', 'mo', '#phope', 'timeline', 'user', 'jobs', 'wayyy', 'agreed', 'kill', 'ghost', 'nap', 'interrupted', 'japanese', \"'rents\", 'ipods', 'longs', 'bus', 'grrr', 'ehhh', 'practical', 'tomorrows', 'blame', 'pop', 'nikster', 'fly', 'awwh', 'unless', \"weather's\", 'comfortable', 'hrs', 'failwhale', 'ds9', 'rumbles', 'solid', 'guitar', 'jai', 'allllll', 'incredible', 'dude', 'teardrops', 'protesting', 'up&quot', 'nightmares', 'boot', \"goin'\", 'cooooold', 'twanking', 'saving', 'heel', 'ppl', 'slip&quot', 'breaking', 'samro', 'lilo', '536-page', 'strangely', 'tips', 'burnt', '9th&amp', 'e-mail', 'intending', 'university', 'teach', 'feed', 'princess', 'hill', 'stephan', 'novel', \"nin's\", 'manuscript', 'laid', 'unfollow', 'cigarette', '#phouse', 'neighbors', 'loud-having', 'danny', 'wasnt', \"friends'\", 'retweeting', \"promise'\", 'wrenching', 'tweeps', \"'a\", 'borders', 'plan', 'scrolling', 'rail', 'shucks', 'consecutive', 'meaning', 'uids', 'bgs', 'activated', 'w/', 'selfcontrol', 'block', 'heaps', 'qc', 'remain', 'regularizing', 'internal', 'direct', 'letting', 'probs', 'cos', 'powers', '#pwas', 'bridget', 'duck', '25th', 'lazy', 'hobby', 'victory', 'damm', 'ny', 'chicken', '100th', 'fave', 'opps', 'diaries', 'south', 'ironing', 'qtr', 'india', 'snarl', 'beautiful', 'babs', 'underneith', '1110', 'entrance', 'promote', 'aim', 'second', 'mammy', 'depressd', 'hacked', 'pls', 'explain', 'some1', 'parent', 'radio', '8yr', \"asba's\", 'vacation', 'daylight', 'savings', 'w', 'row', 'flipped', 'keys', 'anaheim', 'become', 'realizing', 'useful', 'singlet', 'accompaniers', 'tragedy', 'disaster', 'adidas', 'upside', 'picture', 'shorts', 'correclty', 'groove', 'sox', 'rained', 'gear', 'beach', 'morning&quot', 'bh', 'track', 'cute', 'tacos', 'margarhitas', 'telll', 'refuse', 'gay', 'hello&lt', 'exception', 'grind', 'suicide', 'coitus', 'betfair', 'meh', 'sense', 'crashed', 'tar', 'lakin', '2nd', 'anti-depressants', 'crooners', 'paxil/wellbutrin', 'aaw', 'ended', 'sing', 'combo', 'efficacy', 'restaurant', 'woodntap', 'inspirational', 'hanging', 'competitive', '30am', 'copped', 'wudnt', 'chicago', 'baltimore', 'techniques', 'reducing', 'ramen', 'omgawd', 'forthcoming', 'e3', 'birding', 'wind', '(gmt+1)', 'breast', 'somebody', 'history', 'parking', 'belle', 'workin', 'camilla', 'handle', 'sooooo', \"sand'\", 'auburn', 'suitcases', 'el-stupido', '*thats', '3-5', 'jared', 'hatch', 'musik&quot', '6-10', 'o-', 'transformer', \"'puter\", \"'till\", \"#pthat's\", '12-3', '132am', '8-12', 'tipsy', 'diss', 'lonesome', 'filters', 'bands', 'mag', 'lecture', 'attire', 'asian', 'bursting', 'ughhh', 'advance', 'awe', 'sides', 'outside', 'evaluations', 'bubble', 'puma', 'o', 'kidding', 'scared', 'tuesdayï¿½ll', 'reflection', 'ï¿½n', 'using', 'sad-', '#pugh', 'puke', 'pictures', 'champ', 'magazine', 'sickness&quot', 'b/c', 'oj', 'glass', 'held', '-gets', 'snack', 'trace', 'clearly', 'submit', 'paula', 'amazing', \"'blood\", 'sd', 'somehow', 'amazon', \"should've\", 'icecream', 'usc', 'market', 'oats', 'rules', 'decided', 'turbotax', 'wrong', 'horrified', 'saddest', '#pdefinitely', 'fans', 'responded', 'emailed', 'muir', 'blegghhhh', 'client', 'dates', 'double', 'shockwave', '#pblah', 'sydney', 'yr', 'dispatch', 'disease', 'w/cushings', 'sam', 'calves', '#psad', 'calving', \"who's\", 'vaccinate', 'suriously', '#qshould', 'chicken-pox', 'against', 'vaccinated', 'spell', 'lc', 'except', 'joke', 'flawda', 'bestie', '#p3', \"val's\", 'workng', 'rily', 'compress', 'twenty', 'gives', 'updatingffe', 'clubroom', 'iitsc', '12&quot', 'gng', 'vid', 'misty', 'ci', 'lawnord', 'brownstone', 'n2', 'breakn', 'criminals', 'muscle', 'invite', 'e71', \"'em\", 'features', 'adds', 'mobbler', 'clothes', 'organizing', 'procrastinating', 'hella', 'razr', 'happier', 'healthy', 'skip', 'workload', '#pchopra', 'chef', 'exec', 'ashok', 'session', 'dining&quot', 'starburst', 'favereds', 'strawberry', 'degress', 'simpsons', 'desk', 'spilled', 'massage', 'homee', 'winter', 'washington', '11pm', '52', 'fanclub', 'reaaaaad', 'procrastination', 'lecturer', 'visiting', 'bcoz', 'caught', 'peoples', 'share', 'dvds', 'mild', 'nomnoms', 'alarm', 'dis-like', 'reallly', 'w/kayla', 'sittin', 'wings', 'buffalo', '#pstill', '3am', 'someones', 'inner', 'yo', 'awhile', 'cuteness', 'sunday', 'blocked&quot', 'irritating', 'infection', 'ear', '#pyou', 'moving', \"red's\", 'lines', 'software', 'cuddle', 'stink', 'bypass', 'sliced', 'confusing', 'complaint', 'dialogue', 'corner', 'ihop', 'screen', '900', 'mtva', 'cairo', 'melatonin', 'insomnia', 'gee', 'watermellon', \"what's\", 'diet', 'bottom', 'pinky', 'clean', 'languages', 'indic', '(android)', 'google', '#pmobi', 'oneindia', 'accessed', 'physical', 'kung', 'culminates', 'debating', 'reviews', 'cruel', \"s'pose\", 'hating', '-rachel-', 'pancakes', 'homesick', '#ptoo', 'bokkie', 'superneej', 'fling', '=o', 'polish', 'nail', \"mil's\", 'stole', 'sarth', 'eff', 'augh', 'wht', 'followin', 'dun', 'dtmafia', 'jus', \"#ethere's\", 'dtmafiaofficial', 'sorryto', \"dude's\", 'everytime', 'tour', 'dawn', 'neecee', 'wally', 'rammed', 'guessing', 'point', 'centre', 'sarah', 'abt', '(sadness', 'daria', \"where's\", 'sigh', 'planet', 'captain', 'ie', 'cartoons', 'murphy', 'cillian', 'distribution', 'hoyts', 'dmb', 'spiral', 'hunt', 'mouse', 'memorial', 'anti', 'outnumbered', 'vs', 'white', 'gamebattles', '#cso', '#pbuu', 'disco', 'strictest', 'usb', 'crummy', '*hugs*', 'stinks', 'step', 'path', 'rotti', 'spunky', 'tattoos', 'official', 'egg', 'coachella', 'chill', 'fri', 'ahead', 'boooo', 'crib', 'screaming', 'funding', 'lacking', 'maxi', 'ban', 'deserves', 'knowing', 'venture', \"we'll\", 'member', 'longterm', 'balamurugan', 'disapproving', 'commuters', 'warfare', 'odst', 'warp', '(marwan', \"ma'naaaaaaaaaaaaaaaaaaaam\", 'pimple', 'gross', 'itouch', 'converting', 'warm', 'slap', 'spoil', 'follower', 'part', '*hug*', '14', 'collie', 'border', 'decision', 'sympathies', 'feelin', 'accent)', 'brb', 'stimulus', 'stopping', 'unexpected', 'mqu', 'bitchfucks', 'twitters', \"mayer's\", 'reaaly', 'draft', 'nba', 'nothin', 'whether', 'aint', 'carolina', 'north', '1am', 'tournament', 'karate', 'twitterer&quot', 'burned', 'havnt', 'received', 'brutal', 'ilearn', 'icons', 'custom', 're-pinging', '#pnone', 'bern', 'shouldve', 'outttt', 'finals', 'drink', 'edges', 'tastiest', 'europe', 'delicious', 'arent', 'russians', 'disconcerting', 'bioshock', 'legend', '=]', 'square', 'nah', 'plans', 'jrk', '700', 'stats', \"donnie's\", 'hit', 'instead', 'macs', 'ordered', 'midv', 'diff', 'branch', 'monster', 'squid', 'moments', 'talking', 'frustrated', 'forum', 'la', 'fed', 'treats-sicko', 'docs', 'wiped', 'suddenly', '/3', 'hemisphere', 'circle', 'haif', 'exams', 'yankees', 'baseball', '#pwonderfullll', '224am', 'keeeerrrrriiiiii', 'risotto', 'cooked', 'scanning', 'highly', 'chutney', 'fake', 'admitted', 'sleepless', 'w/me', 'twitterfam', 'goodnights', 'darn', 'reaper', 'digging', 'damnit', 'ca', 'rosa', 'santa', 'cutner', 'allergies', 'percent', 'greaaat', 'vb6', 'debbugging', 'stranger', 'all-nighter', 'lookin', 'journey', 'wtffffff', 'lappy', 'head*', '*shakes', '*cry*', 'twitterfeed', 'throughout', 'linux', 'freelance', '1099', 'contact', 'showers', 'lukewarm', 'lately', 'manually', 'febi', 'beginnings', 'starting', 'workshop', 'invited', 'whaaaa', 'sayyyy', 'bbm', '8900', 'connor', 'pro', 'codes', 'properly', 'promo', 'sucky', 'quite', 'genuinely', 'fact', 'ip', 'weeeeee', 'italian', 'posts', 'inlove', 'vitamin', 'electrolytes', 'lovely', 'flash', 'msgs', 'borez', 'america', 'powerbook', 'comcast', 'doubled', 'cable/internet', 'enter', 'premise', 'buyology', 'shoot', 'aches', 'migraine', 'nw', 'waste', 'bureaucratic', 'concentrate', 'ok&quot', 'import', 'mobile', 'synching', 'seat', 'forcing', 'papers', 'helping', 'seating', 'turning', 'wasting', 'hello&quot', 'inch', 'ohhh', 'sooooooo', 'lastnight', 'comin', 'unworthy', 'grateful', 'camper', 'counting)', 'flogged', 'line', 'sterling', 'rate', 'exchange', 'decent', \"d'oh\", 'reader&quot', 'zero', 'didnt', 'suckssss', 'surprise', 'w/out', 'fixed', 'muchh', 'toooo', 'conferenceing', 'kitty', 'sized', 'king', 'hq', 'microsoft', 'hi', 'bahaha', 'legs', \"hadn't\", 'duchess', 'morn', 'area', 'affordable', 'suggest', 'quitting', 'cooooffffeeeeeeeee', 'butt', 'ruddy', 'autograph', '59', 'tivo', 'hd', 'biology', 'apprentice', 'khloe', 'rt', 'record', 'brolly', 'nosey', 'swap', \"you'll\", 'brilliant', 'sisters', '18', 'offend', 'interesting', 'conversation', 'reloaded', 'completely', 'bummed', 'bless', 'afford', 'tube', 'unpleasant', 'followed', 'victoria', 'failed', 'smugness', 'tests', \"#pdon't\", 'counciling', 'speakeasy', 'kitchen', 'counter', 'under', 'toaster', 'beer', 'beer=', 'frozen', 'partially', 'extraction', 'pet', 'suspicious', 'door', 'austin', 'character', 'usually', 'machines', 'laundromat', 'large', 'goto', 'comforter', 'roomie', 'e-mails', 'expert', '#pon', '=p', 'mia', \"#pthey've\", 'codez', '33', 'fishing', 'appreciated', 'packing/painting/cleaning', '#pany', 'literature', 'drunk', 'alcohol', 'reeked', 'phoneless', '$900', 'cup', 'friendly', 'review', 'miles', 'realised', '70', 'closest', 'work)', 'france', 'travel', 'stucked', 'goodness', 'create', 'tshirt', 'huge', 'twist', '#pwide', 'driving', 'old)', '(18', '@ilovefatsusan', 'linny', 'law', 'eam', 'crappy', 'cannot', 'stain', 'tania38', 'tessm64', 'adopted', 'burrito-eating', 'certain', 'nights', 'disgusted', 'looked', 'q', 'drivin', 'lesson', 'options', 'tantan', 'buckwild', 'becky', 'money2', \"bjork's\", 'veiws', 'viable', 'none', 'immediately', \"c'mon\", 'log', 'hall', '-s', 'verdict', 'trial', 'pirate', 'm25', 'sodding', 'nabe', 'sean', 'hiring', 'stalker', 'robbie', 'raining', 'tweeters', 'dropped', 'unloved', 'loads', 'masters', 'bike', 'referring', 'league', 'grass', '#pmaybe', 'grand', 'cones', 'ice', 'mint', '#pmakes', 'own&quot', 'plagues', 'nowhere', 'ten', 'beau', 'noooooo', \"penn's\", 'interferes', 'usual', 'per', 'tmrw', 'essay', 'bon', 'pas', 'played', 'fais', 'pkoi', 'dennys', 'suckassy', 'britain', 'shut', 'sleeep', 'mins', 'loyal', 'hand', 'ideas', 'muscles', 'eve', \"birthday's\", 'term', '#e)', 'c/o', '(hof', 'stringer', 'unfollowing', 'stiff', 'stack', 'doubling', 'trees', 'brew', 'crack', 'phipstape&quot', 'calls', 'looooooong', '#p20pm', 'manu', 'partion', 's3', '2/2552', 'upon', 'economics', 'side', 'silly', 'studio', 'visual', 'awh', 'eh', 'oooonly', '140', 'default', 'jenny', 'kicked', 'street', 'franklin', 'pants', 'wetting', '#e&quot', 'accident', 'hundred', 'islands', 'pride', 'ids', 'torrents', 'illegal', 'strange', 'stayed', 'announcement', 'comment', 'fuckkkkkkkkkkkkk', 'bars', 'hats', 'philippine', 'harassed', 'airport', 'recommends', 'surprised', 'taste', 'poaching', 'coral/clam/rare', 'tourism', '#3', 'reads', 'range', 'intervention', 'g4', 'host', 'casting', 'craigslist', 'ad', 'idiot', 'rut', 'boyfriend', 'holistic', 'hoax', 'practising', 'messing', 'song', 'missin', 'scrappy', 'quick', 'um', 'notices', 'psyched', '#pa', 'twiggassssssss', 'bs', 'builders', 'ox', 'drive', 'hold', 'strong', 'ed&quot', 'sayin', 'admitting', 'quickly', \"valentino's\", 'btw', 'passion', 'vegas', 'skinny', 'keeping', \"rocko's\", 'gg', 'sausage', 'avlbl', 'everywhere', 'legal', 'spinning', 'thatï¿½s', 'apple', 'budget', 'nasty', 'confidence', 'vote', 'negative', 'combination', 'nose', 'stopped', 'attempts', 'cheap', 'toon', 'rabbit', 'roger', 'framed', 'button', 'uh', 'kings', 'quiz', \"it'll\", 'teusday', 'draining', 'drano', 'haz', 'drain', 'bathtub', '#psorry', 'sexist', 'ummmmm', 'jst', 'ceased', 'tireddddddd', 'twilight', 'therapist', 'real', 'ish', 'persons', 'raw', 'disbelief', 'passport', 'dreams', 'imiss', 'green', 'talked', 'applepears', 'cooking', 'nobody', 'cigarettes', 'number', 'reduce', 'lighter', 'glittery', 'nature', 'along', 'saturday', 'jeez', 'mts', 'padre', 'sardines', 'packed', 'trolley', 'owl', 'zone', 'not-cool', 'flashing', 'sketchy', 'vivid', 'repair', 'december', 'worn', 'martens', 'faking', 'alert', 'stressing', 'fair', 'velvet', 'tempted', 'sodas', '100%', 'gabbie', 'nurse', 'uti', 'pookie', 'mail', 'stou', '1/10', 'wahhh', 'latest', '#pnot', '600ms', 'legendary', 're-download', 'mythic', 'access', 'writing', 'planned', 'outings', 'earlier', 'noah', \"angela's\", 'copout', 'shapeshifting', 'energy', 'drains', 'walking', 'underneath', 'ha', \"sun's\", 'harder', 'untill', 'herself', 'leave', 'spending', 'girlyvue', 'biof', 'proposal', 'biofuel', 'braces', 'mouth', \"let's\", 'tech', 'warn', 'tom/weds', 'during', 'megafast', 'peavy', 'jake', 'crush', 'children', 'suitcase', 'cheese', 'dreading', '(picture', 'poop', 'fight', 'bro', 'according', 'chiefdelphi', \"miss'n\", \"#phe's\", 'thunder', 'su', 'tropic', '-/', 'wide', 'suuuper', 'argh', 'provider', 'hosting', 'plugin', 'him)', 'yin', 'string', 'na', 'closing', '#por', 'cage', 'germany', 'moooorniiiiiiing&quot', 'gooooood', 'everyday', 'seeing', 'cuuute', 'huen', 'fill', 'shameful', \"cantu's\", 'tejanos', 'joshy', 'staff', 'guilt', 'unbearable', 'tromped', 'jew-bus', 'worth', '(two', 'visits', 'chi', 'sweets', 'poots', 'shoog', 'tum', 'cookies', 'half)', 'heif', '6pm', 'du', 'unfair', 'buck', 'stooopeeed', 'ugggggh', 'mirrors', 'ahhhh', 'troll', 'emails', 'ttyl', '9', 'posterior', 'callum', 'chris', 'die', 'nathan', 'swimming', 'drool', 'creaking', 'articulation', 'loud', 'everbody', 'softbelly', 'poohpot', 'seconds', 'created', 'jon', 'nick', 'ages', '(', 'hay', 'testament', \"classes'\", 'neccessary', 'rambunctious', 'breakers', 'mantra', 'furious', 'f', 'folk', 'dumb', 'wekend', 'outage', 'clamped', 'rachel', 'exchanging', 'ache', 'bones', 'possible', 'finishing', '_&lt', 'organize', 'overreacted', 'reason)', \"'hitokyri'\", 'within', 'xblm', 'learned', 'worry', 'hon', 'suppose', 'medicine', 'whoa', 'reaction', 'fades', 'ps', 'dye', 'permanent', 'color', 'jeffree', 'easier', 'sod', 'carpet', 'spot', 'dangit', 'duckling', 'fatal', 'indian', '15', 'nwo', 'cups', 'reeses', 'miniature', 'mood', 'broken&quot', 'moms', 'pre', 'dropping', 'bmar', 'grouchy', 'loves', 'stubborn', 'extinct', 'becoming', \"weren't\", 'frogs', '[-o]', 'colddd', 'stuffing', 'nightmare', 'mostly', 'behaved', 'horses', '#pyawn', '#p00', '7', 'names', 'kantu', 'ending', 'disappointed', 'affected', 'ballistic', 'matt', 'acronyms', 'remark', 'tongue-in-cheek', 'prepatory', 'ignacius', 'york', 'ashamed', 'professor', 'eyelid', 'hahaa', \"dvr'ed\", 'anywhere', 'wahh', 'dance', 'unclever', 'word', 'isnt', 'impune&quot', 'ï¿½tieï¿½', 'inventory', 'wearing', 'tumblr', 'hun', 'knight', 'embarasssiiiin', 'upp', 'beat', 'cam', 'tweeters&lt', 'ballin', 'dry', 'replied', 'nd', 'summe', 'rerun', 'catch', 'network', 'dish', \"dvr'd\", '#', 'brian', 'bills', 'css', 'learning', 'evicted', 'jumbo', 'mumbo', 'bunch', '#pis', 'paaaaay', 'travesty', 'gossip', 'reckon', 'esn', 'stomach', 'lower', '#pwhy', 'tops', '250', 'pulls', 'hits', '1000', 'disgruntled', 'fallon', 'ftf', 'coords', 'risk', 'dnf', 'myki', 'bobby', 'hollywood', 'beso', 'exercising', '#pschool', 'luisa', 'kutner/kal', 'suffered', 'leftovers', '$100', 'bidders', 'item', 'blues', '#p-', 'homeworks', '13', '56', 'rub', 'brat', 'better-not', 'individual', 'motivates', '#pgreed', 'visit', 'counting', 'whitney', 'careful', 'return', 'flu', 'prolly', 'finland', 'minute', 'water', 'outta', 'phuckin', 'sleepin', \"#pi'lll\", '#pplus', 'shiner', 'insomniac', '#pthink', 'umm', 'wet', 'folio', 'strain', 'different', 'ocular', 'earliest', 'blankets', 'sex', 'radioactive', 'chillen', 'wonder-', 'murd', \"shouldn't\", 'vacations', 'coz', \"'nother\", '#eand', 'noticing', 'sadden', 'manage', 'noes', 'ankle', '12player', 'server', 'hack', 'tp', 'naples', 'kant', 'curry', 'famous', 'filled', 'coleman', '#pmeanwhile', 'items', 'listing', 'rooting', 'huuuge', 'cook', '#pap', 'britney', 'angst', 'punk', 'dresses', 'cats', '75', 'flashed', 'gawwd', 'hamilton&quot', 'tad', 'cabernet', 'premier', 'presentation', '23', 'gloss', 'states', 'indonesia', '$320', 'imac', 'known', 'spider&quot', 'spider', 'screams', 'vain', 'slides', 'sound', 'scaring', \"#pi'm\", 'intro', 'straight', 'skins', 'previously', '$160', 'brie', 'pears', 'bestfriend', 'bloody', '#padorno', 'music&quot', 'popular', 'driveway', 'park', 'garage', 'helppp', 'knackered', 'install', 'camera', 'altrincham', 'convicts', 'includes', 'globe', 'boston', 'public', \"boston's\", \"children's\", 'prescribed', 'cellphone', 'tomomorrow', 'sneak', 'shawnna', 'yaknow', 'trust', 'athlete', 'angel', 'cousins', 'kitties', 'zoo', 'lodged', 'liking', 'uncapped', 'sofa', 'hightlight', 'vids', 'china', 'blocked', 'pity', 'spring-like', 'furniture', 'peaceful', 'bites', 'balls', 'jesus', 'mornings', '*sighs*', 'friday', 'meant', 'trumpet', 'fancast', '360', \"emanuel's\", 'opera', 'rahm', 'nodes', 'lymph', 'vomit', '*christina*', 'cinema', 'goonite', 'calling', 'shopping', 'turtles', 'toast', 'marriages', 'absolutely', 'matthew', 'austins', 'implies', 'looser', '#plove', 'marry', 'convert', 'arranged', 'lasts', 'wen', 'gettin', 'yu', 'maggie', 'pleasant', 'soaked', 'faster', 'moves', 'nicely', 'dollar', 'footage', 'pissing', 'goldfish', 'swarley', 'emma', 'dislike', 'strongly', 'ttb', 'accessing', 'logging', 'app', \"that'll\", 'fraking', 'unlike', 'versions', 'hpricot', 'jruby', 'underxposed', 'hd)', '(in', 'swollen', 'doubtful', 'bread', 'wasted', 'wheat', 'mails', 'mines', 'scary', 'boba', 'happily', \"could've\", '$10', 'print', \"izzy's\", 'small', 'godaddy', 'banning', 'runs', 'chases', 'floor', \"she'll\", 'tree', 'important']\n"
     ]
    }
   ],
   "source": [
    "model = gensim.models.Word2Vec.load(\"project3.model\")\n",
    "vocab = list(model.wv.key_to_index.keys())\n",
    "vocab_len = len(model.wv)\n",
    "print(vocab)\n"
   ]
  },
  {
   "cell_type": "code",
   "execution_count": 558,
   "metadata": {},
   "outputs": [],
   "source": [
    "epochs = 1\n",
    "lm = nlm.LanguageModel(vocab_len)  # Adjust hidden_size as needed\n",
    "loss_fn = nn.CrossEntropyLoss()\n",
    "optimizer = optim.SGD(lm.parameters(), lr=0.01)\n"
   ]
  },
  {
   "cell_type": "code",
   "execution_count": 559,
   "metadata": {},
   "outputs": [],
   "source": [
    "vocab.append('<unk>')\n",
    "# Populate the 'text' variable\n",
    "for row in subdf[\"text\"]:\n",
    "    row = row.lower()\n",
    "    row = re.sub(r'((www.\\S+)|(https?://\\S+))', r\"\", row)\n",
    "    row = re.sub(r'(@\\S+) | (#\\S+)', r'', row)\n",
    "    row = row.replace(\",\", \" #c\")\n",
    "    row = row.replace(\".\", \" #p\")\n",
    "    row = row.replace(\"!\", \" #e\")\n",
    "    row = row.replace(\"?\", \" #q\")\n",
    "    text += re.split(\"[\\n :;]\", row)"
   ]
  },
  {
   "cell_type": "code",
   "execution_count": 560,
   "metadata": {},
   "outputs": [
    {
     "name": "stdout",
     "output_type": "stream",
     "text": [
      "epoch finished\n"
     ]
    }
   ],
   "source": [
    "for epoch in range(epochs):\n",
    "    for i in range(3, len(text)-1):\n",
    "        input = [list(model.wv[text[i - 3]]), list(model.wv[text[i - 2]]), list(model.wv[text[i - 1]])]\n",
    "        input = [item for sublist in input for item in sublist]  # Flatten the list\n",
    "\n",
    "        target_word_index = vocab.index(text[i + 1])  # Predict the next word in the sequence\n",
    "        y_pred = lm(torch.tensor(input, dtype=torch.float))\n",
    "        y_true = torch.tensor([target_word_index], dtype=torch.long)\n",
    "\n",
    "        loss = loss_fn(y_pred.unsqueeze(0), y_true)\n",
    "        optimizer.zero_grad()\n",
    "        loss.backward()\n",
    "        optimizer.step()\n",
    "\n",
    "print(\"epoch finished\")"
   ]
  },
  {
   "cell_type": "code",
   "execution_count": 561,
   "metadata": {},
   "outputs": [],
   "source": [
    "# Save the model state dictionary\n",
    "torch.save(lm.state_dict(), \"language.pth\")"
   ]
  },
  {
   "cell_type": "code",
   "execution_count": 562,
   "metadata": {},
   "outputs": [
    {
     "data": {
      "text/plain": [
       "<All keys matched successfully>"
      ]
     },
     "execution_count": 562,
     "metadata": {},
     "output_type": "execute_result"
    }
   ],
   "source": [
    "lm = nlm.LanguageModel(vocab_len)\n",
    "lm.load_state_dict(torch.load(\"language.pth\"))"
   ]
  },
  {
   "cell_type": "code",
   "execution_count": 574,
   "metadata": {},
   "outputs": [],
   "source": [
    "import torch.nn.functional as F\n",
    "import numpy as np\n",
    "\n",
    "def complete_sentence(prompt, language_model, word2vec_model, vocab, max_length=10):\n",
    "    input_words = prompt.lower().split()\n",
    "\n",
    "    for _ in range(max_length):\n",
    "        input_vectors = [word2vec_model.wv.get_vector(word) if word in word2vec_model.wv else [0.0] * word2vec_model.vector_size for word in input_words[-3:]]\n",
    "        input_vectors_flat = [item for sublist in input_vectors for item in sublist]\n",
    "\n",
    "        try:\n",
    "            input_tensor = torch.tensor(input_vectors_flat, dtype=torch.float).unsqueeze(0)\n",
    "            output_probs = F.softmax(language_model(input_tensor), dim=1).squeeze().detach().numpy()\n",
    "            predicted_index = np.random.choice(len(output_probs), p=output_probs)\n",
    "            predicted_word = vocab[predicted_index]\n",
    "        except (ValueError, KeyError):\n",
    "            predicted_word = '<unk>'\n",
    "\n",
    "        input_words.append(predicted_word)\n",
    "        if predicted_word in [\"#c\", \"#p\", \"#e\", \"#q\"]:\n",
    "            break  # Stop if a punctuation mark is predicted\n",
    "\n",
    "    cleaned_sentence = ' '.join([word for word, next_word in zip(input_words, input_words[1:] + ['']) if word != '<unk>' or next_word != '<unk>'])\n",
    "\n",
    "    return cleaned_sentence\n"
   ]
  },
  {
   "cell_type": "code",
   "execution_count": 575,
   "metadata": {},
   "outputs": [
    {
     "name": "stdout",
     "output_type": "stream",
     "text": [
      "Prompt:  This is a\n",
      "Completed Sentence:  this is a 1110 eyebrows woman screams crummy one lazy alot partion today\n"
     ]
    }
   ],
   "source": [
    "prompt_sentence = \"This is a\"\n",
    "completed_sentence = complete_sentence(prompt_sentence,lm, model,vocab)\n",
    "print(\"Prompt: \", prompt_sentence)\n",
    "print(\"Completed Sentence: \", completed_sentence)\n"
   ]
  }
 ],
 "metadata": {
  "kernelspec": {
   "display_name": "base",
   "language": "python",
   "name": "python3"
  },
  "language_info": {
   "codemirror_mode": {
    "name": "ipython",
    "version": 3
   },
   "file_extension": ".py",
   "mimetype": "text/x-python",
   "name": "python",
   "nbconvert_exporter": "python",
   "pygments_lexer": "ipython3",
   "version": "3.11.5"
  }
 },
 "nbformat": 4,
 "nbformat_minor": 2
}
